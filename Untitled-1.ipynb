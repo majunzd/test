{
 "cells": [
  {
   "cell_type": "code",
   "execution_count": 1,
   "metadata": {},
   "outputs": [
    {
     "name": "stdout",
     "output_type": "stream",
     "text": [
      "转换后的温度为：98.60F\n"
     ]
    }
   ],
   "source": [
    "# TempConvert.py\n",
    "val = input(\"请输入带有温度表示符号的温度值（例如：32C）：\")\n",
    "if val[-1] in ['C','c']:\n",
    "    f = 1.8*float(val[0:-1]) + 32\n",
    "    print(\"转换后的温度为：%.2fF\"%f)\n",
    "elif val[-1] in ['F','f']:\n",
    "    c = (float(val[0:-1])-32) / 1.8\n",
    "    print(\"转换后的温度为：%.2fC\"%c)\n",
    "else:\n",
    "    print(\"输入有误\")\n"
   ]
  },
  {
   "cell_type": "code",
   "execution_count": 3,
   "metadata": {},
   "outputs": [
    {
     "name": "stdout",
     "output_type": "stream",
     "text": [
      "平均数为：1.50\n"
     ]
    }
   ],
   "source": [
    "num1,num2 = input(\"the first number is\"),input(\"the second number is\")\n",
    "avg_num = (float(num1) + float(num2)) / 2\n",
    "print(\"平均数为：%.2f\"%avg_num)"
   ]
  },
  {
   "cell_type": "code",
   "execution_count": 1,
   "metadata": {},
   "outputs": [],
   "source": [
    "import turtle\n",
    "\n",
    "def drawSnake(rad, angle, len, neckrad):\n",
    "    for i in range(len*2):\n",
    "        turtle.circle(rad, angle)\n",
    "        turtle.circle(-rad, angle)\n",
    "    turtle.circle(rad, angle/2)\n",
    "    turtle.fd(rad)\n",
    "    turtle.circle(neckrad+1, 180)\n",
    "    turtle.fd(rad*2/3)\n",
    "\n",
    "def main():\n",
    "    turtle.setup(1300, 800, 0,0)\n",
    "    pythonsize = 30\n",
    "    turtle.pensize(pythonsize)\n",
    "    turtle.pencolor(\"blue\")\n",
    "    turtle.seth(-40)\n",
    "    drawSnake(40,180,5,pythonsize/2)\n",
    "\n",
    "main()"
   ]
  },
  {
   "cell_type": "code",
   "execution_count": 55,
   "metadata": {},
   "outputs": [
    {
     "name": "stdout",
     "output_type": "stream",
     "text": [
      "randrange(100, 1000, 2) :  499 686 926\n"
     ]
    }
   ],
   "source": [
    "from random import *\n",
    "\n",
    "randrange(0,10,3)\n",
    "print (\"randrange(100, 1000, 2) : \", randrange(100, 1000, 1),randrange(100, 1000, 2),randrange(100, 1000, 2))"
   ]
  },
  {
   "cell_type": "code",
   "execution_count": 79,
   "metadata": {},
   "outputs": [
    {
     "name": "stdout",
     "output_type": "stream",
     "text": [
      "pi的值为 3.1374\n",
      "程序运行时间为 58.831500 ms\n"
     ]
    }
   ],
   "source": [
    "from random import random\n",
    "from math import sqrt\n",
    "import time\n",
    "\n",
    "t1 = time.perf_counter()\n",
    "DARTS = 120000\n",
    "hits = 0\n",
    "for i in range(1,DARTS):\n",
    "    x,y = random(),random()\n",
    "    dist = sqrt(x**2 + y**2)\n",
    "    if dist <= 1.0:\n",
    "        hits = hits + 1\n",
    "pi = 4 * (hits/DARTS)\n",
    "t2 = time.perf_counter()\n",
    "print(\"pi的值为 %s\"%pi)\n",
    "print(\"程序运行时间为 %f ms\"%((t2-t1)*1000))"
   ]
  }
 ],
 "metadata": {
  "kernelspec": {
   "display_name": "Python 3.10.5 64-bit",
   "language": "python",
   "name": "python3"
  },
  "language_info": {
   "codemirror_mode": {
    "name": "ipython",
    "version": 3
   },
   "file_extension": ".py",
   "mimetype": "text/x-python",
   "name": "python",
   "nbconvert_exporter": "python",
   "pygments_lexer": "ipython3",
   "version": "3.10.5"
  },
  "orig_nbformat": 4,
  "vscode": {
   "interpreter": {
    "hash": "ab012055df45e3f3b9da4c23280b0bdf294034109a70266e831ec8aa524fe9b2"
   }
  }
 },
 "nbformat": 4,
 "nbformat_minor": 2
}
